{
 "cells": [
  {
   "attachments": {},
   "cell_type": "markdown",
   "metadata": {
    "colab_type": "text",
    "id": "XfmMtuxKYRoO"
   },
   "source": [
    "# Pandas確認課題\n",
    "\n",
    "このPandas確認問題は、データサイエンス100本ノックの問題で最低限必要な問題を抜粋したものですが、[Introduction_to_Pandas](./11_Introduction_to_Pandas.ipynb) に掲載されていない機能が必要な問題もあります。\n",
    "初めて触るライブラリを調べながら使うというのはよくある光景です。この課題では皆さんにもそれに挑戦していただきます。  \n",
    "ヒントとして検索キーワードなどを載せておくので、自力で調べながら解いてみましょう。  \n",
    "\n"
   ]
  },
  {
   "attachments": {},
   "cell_type": "markdown",
   "metadata": {
    "colab_type": "text",
    "id": "9ktBdoeha1jL"
   },
   "source": [
    "## 必要モジュールのインポート\n",
    "\n",
    "この問題で使うモジュールをインポートします．"
   ]
  },
  {
   "cell_type": "code",
   "execution_count": 1,
   "metadata": {
    "colab": {},
    "colab_type": "code",
    "id": "2IhABxEEaq19"
   },
   "outputs": [],
   "source": [
    "import pandas as pd\n",
    "import numpy as np"
   ]
  },
  {
   "attachments": {},
   "cell_type": "markdown",
   "metadata": {
    "colab_type": "text",
    "id": "llLJCZTEa5Rb"
   },
   "source": [
    "## データの読み込み"
   ]
  },
  {
   "cell_type": "code",
   "execution_count": 2,
   "metadata": {
    "colab": {},
    "colab_type": "code",
    "id": "uN-SvpE_a50E"
   },
   "outputs": [],
   "source": [
    "df_customer = pd.read_csv('https://raw.githubusercontent.com/The-Japan-DataScientist-Society/100knocks-preprocess/master/docker/work/data/customer.csv')\n",
    "df_product = pd.read_csv('https://raw.githubusercontent.com/The-Japan-DataScientist-Society/100knocks-preprocess/master/docker/work/data/product.csv')\n",
    "df_receipt = pd.read_csv('https://raw.githubusercontent.com/The-Japan-DataScientist-Society/100knocks-preprocess/master/docker/work/data/receipt.csv')"
   ]
  },
  {
   "attachments": {},
   "cell_type": "markdown",
   "metadata": {
    "colab_type": "text",
    "id": "xm5FMZJobU3Y"
   },
   "source": [
    "---\n",
    "## 問1. 条件抽出\n",
    "> P-006: レシート明細データフレーム「df_receipt」から売上日（sales_ymd）、顧客ID（customer_id）、商品コード（product_cd）、売上数量（quantity）、売上金額（amount）の順に列を指定し、以下の条件を満たすデータを抽出せよ。\n",
    "> - 顧客ID（customer_id）が\"CS018205000001\"\n",
    "> - 売上金額（amount）が1,000以上または売上数量（quantity）が5以上"
   ]
  },
  {
   "cell_type": "code",
   "execution_count": 17,
   "metadata": {
    "colab": {
     "base_uri": "https://localhost:8080/",
     "height": 198
    },
    "colab_type": "code",
    "id": "KSOu6AWabVaD",
    "outputId": "91faaad5-57ca-4a67-c046-195afa4d21df"
   },
   "outputs": [
    {
     "name": "stdout",
     "output_type": "stream",
     "text": [
      "        sales_ymd  sales_epoch store_cd  receipt_no  receipt_sub_no  \\\n",
      "17       20181225   1545696000   S13020        1172               2   \n",
      "36       20180911   1536624000   S13018        1122               2   \n",
      "40       20170501   1493596800   S13004        1192               2   \n",
      "73       20170523   1495497600   S14028        1182               2   \n",
      "75       20180310   1520640000   S14028         112               1   \n",
      "...           ...          ...      ...         ...             ...   \n",
      "104622   20170801   1501545600   S13017        1102               2   \n",
      "104656   20170730   1501372800   S13005        1102               2   \n",
      "104662   20191024   1571875200   S14011        1132               2   \n",
      "104666   20170330   1490832000   S13017        1112               1   \n",
      "104669   20190726   1564099200   S14006        1122               1   \n",
      "\n",
      "           customer_id  product_cd  quantity  amount  \n",
      "17      ZZ000000000000  P071401002         1    1100  \n",
      "36      CS018205000001  P071401012         1    2200  \n",
      "40      CS004415000232  P090301078         1    1880  \n",
      "73      CS028415000203  P071401019         1    2200  \n",
      "75      ZZ000000000000  P071401002         1    1100  \n",
      "...                ...         ...       ...     ...  \n",
      "104622  CS017515000174  P090701080         1    1280  \n",
      "104656  CS005515000093  P071401018         1    2200  \n",
      "104662  CS011411000001  P071401001         1    1100  \n",
      "104666  CS017411000016  P071401013         1    2200  \n",
      "104669  CS006615000114  P071301002         1    2485  \n",
      "\n",
      "[8458 rows x 9 columns]\n"
     ]
    }
   ],
   "source": [
    "print(df_receipt.query('customer_id == \"CS018205000001\" or (amount >= 1000 or quantity >= 5)'))"
   ]
  },
  {
   "attachments": {},
   "cell_type": "markdown",
   "metadata": {
    "colab_type": "text",
    "id": "7WsKq3Voj0LF"
   },
   "source": [
    "---\n",
    "## 問2. ソート\n",
    "> P-18: 顧客データフレーム（df_customer）を生年月日（birth_day）で若い順にソートし、先頭5件を全項目表示せよ。"
   ]
  },
  {
   "cell_type": "code",
   "execution_count": 4,
   "metadata": {
    "colab": {
     "base_uri": "https://localhost:8080/",
     "height": 694
    },
    "colab_type": "code",
    "id": "uLdYmXgdjxaw",
    "outputId": "7a064e8c-4db3-4350-a212-688cb9b49980"
   },
   "outputs": [
    {
     "name": "stdout",
     "output_type": "stream",
     "text": [
      "          customer_id customer_name  gender_cd gender   birth_day  age  \\\n",
      "15639  CS035114000004         大村 美里          1     女性  2007-11-25   11   \n",
      "7468   CS022103000002        福山 はじめ          9     不明  2007-10-02   11   \n",
      "10745  CS002113000009        柴田 真悠子          1     女性  2007-09-17   11   \n",
      "19811  CS004115000014         松井 京子          1     女性  2007-08-09   11   \n",
      "7039   CS002114000010          山内 遥          1     女性  2007-06-03   11   \n",
      "\n",
      "      postal_cd                address application_store_cd  application_date  \\\n",
      "15639  156-0053     東京都世田谷区桜**********               S13035          20150619   \n",
      "7468   249-0006    神奈川県逗子市逗子**********               S14022          20160909   \n",
      "10745  184-0014  東京都小金井市貫井南町**********               S13002          20160304   \n",
      "19811  165-0031    東京都中野区上鷺宮**********               S13004          20161120   \n",
      "7039   184-0015  東京都小金井市貫井北町**********               S13002          20160920   \n",
      "\n",
      "          status_cd  \n",
      "15639  6-20091205-6  \n",
      "7468   0-00000000-0  \n",
      "10745  0-00000000-0  \n",
      "19811  1-20081231-1  \n",
      "7039   6-20100510-1  \n"
     ]
    }
   ],
   "source": [
    "print(df_customer.sort_values(by='birth_day', ascending=False).head(5))"
   ]
  },
  {
   "attachments": {},
   "cell_type": "markdown",
   "metadata": {
    "colab_type": "text",
    "id": "1lRGtDSphhyQ"
   },
   "source": [
    "---\n",
    "## 問3. 全件数\n",
    "> P-021: レシート明細データフレーム（df_receipt）に対し、件数をカウントせよ。"
   ]
  },
  {
   "cell_type": "code",
   "execution_count": 5,
   "metadata": {
    "colab": {
     "base_uri": "https://localhost:8080/",
     "height": 35
    },
    "colab_type": "code",
    "id": "m-ihL_fVhhyQ",
    "outputId": "da0669b7-2c34-4dc6-becb-4da002103202"
   },
   "outputs": [
    {
     "name": "stdout",
     "output_type": "stream",
     "text": [
      "104681\n"
     ]
    }
   ],
   "source": [
    "print(len(df_receipt))"
   ]
  },
  {
   "attachments": {},
   "cell_type": "markdown",
   "metadata": {
    "colab_type": "text",
    "id": "MkjDW-oyhhyS"
   },
   "source": [
    "## 問4. ユニーク件数\n",
    "> P-022: レシート明細データフレーム（df_receipt）の顧客ID（customer_id）に対し、ユニーク件数をカウントせよ。"
   ]
  },
  {
   "cell_type": "code",
   "execution_count": 6,
   "metadata": {
    "colab": {
     "base_uri": "https://localhost:8080/",
     "height": 35
    },
    "colab_type": "code",
    "id": "0xSI9r8UhhyS",
    "outputId": "0c5a57f4-2088-4109-a40e-eb76c4845af0"
   },
   "outputs": [
    {
     "name": "stdout",
     "output_type": "stream",
     "text": [
      "8307\n"
     ]
    }
   ],
   "source": [
    "print(df_receipt['customer_id'].nunique())"
   ]
  },
  {
   "attachments": {},
   "cell_type": "markdown",
   "metadata": {},
   "source": [
    "<details>\n",
    "<summary>ヒント</summary>\n",
    "「ユニーク」というのはそのまま検索に使える単語です。  \n",
    "</details>"
   ]
  },
  {
   "attachments": {},
   "cell_type": "markdown",
   "metadata": {
    "colab_type": "text",
    "id": "h9E9b_yUhhyq"
   },
   "source": [
    "---\n",
    "## 問5. 〇〇ごとに集計\n",
    "> P-035: レシート明細データフレーム（df_receipt）に対し、顧客ID（customer_id）ごとに売上金額（amount）を合計して全顧客の平均を求め、平均以上に買い物をしている顧客を抽出せよ。ただし、顧客IDが\"Z\"から始まるのものは非会員を表すため、除外して計算すること。なお、データは先頭5件だけ表示せよ。\n",
    "\n",
    "会員のみを抽出する方法は、例えば以下の2通りの方法があります。"
   ]
  },
  {
   "cell_type": "code",
   "execution_count": 7,
   "metadata": {},
   "outputs": [],
   "source": [
    "df_receipt_only_member = df_receipt[~df_receipt[\"customer_id\"].str.startswith(\"Z\")]\n",
    "df_receipt_only_member = df_receipt.query(\"not customer_id.str.startswith('Z')\", engine=\"python\")"
   ]
  },
  {
   "cell_type": "code",
   "execution_count": 8,
   "metadata": {
    "colab": {
     "base_uri": "https://localhost:8080/",
     "height": 225
    },
    "colab_type": "code",
    "id": "7lYKkmsohhyq",
    "outputId": "06bbc1ea-d6d0-4841-a6dd-1598974714b6"
   },
   "outputs": [
    {
     "name": "stdout",
     "output_type": "stream",
     "text": [
      "customer_id\n",
      "CS001115000010    3044\n",
      "CS001205000006    3337\n",
      "CS001214000009    4685\n",
      "CS001214000017    4132\n",
      "CS001214000052    5639\n",
      "Name: amount, dtype: int64\n"
     ]
    }
   ],
   "source": [
    "df_grouped = df_receipt_only_member.groupby('customer_id').sum()\n",
    "ave_amount = df_grouped.mean(numeric_only=True)['amount']\n",
    "print(df_grouped.query('amount >= @ave_amount').head(5)['amount'])"
   ]
  },
  {
   "attachments": {},
   "cell_type": "markdown",
   "metadata": {},
   "source": [
    "<details>\n",
    "<summary>ヒント1</summary>\n",
    "「pandas 要素ごと 集計」 などで今回使える機能に関する記事が見つかります。\n",
    "</details>"
   ]
  },
  {
   "attachments": {},
   "cell_type": "markdown",
   "metadata": {},
   "source": [
    "<details>\n",
    "<summary>ヒント2</summary>\n",
    "メソッド名は \"groupby\" です。\n",
    "</details>"
   ]
  },
  {
   "attachments": {},
   "cell_type": "markdown",
   "metadata": {
    "colab_type": "text",
    "id": "iNO7ESvWhhyw"
   },
   "source": [
    "---\n",
    "## 問6. DataFrameの結合\n",
    "> P-038: 顧客データフレーム（df_customer）とレシート明細データフレーム（df_receipt）から、各顧客ごとの売上金額合計を求めよ。ただし、買い物の実績がない顧客については売上金額を0として表示させること。また、顧客は性別コード（gender_cd）が女性（1）であるものを対象とし、非会員（顧客IDが'Z'から始まるもの）は除外すること。なお、結果は先頭5件だけ表示せよ。"
   ]
  },
  {
   "cell_type": "code",
   "execution_count": 9,
   "metadata": {},
   "outputs": [],
   "source": [
    "df_customer_only_member = df_customer[~df_customer[\"customer_id\"].str.startswith(\"Z\")]\n",
    "df_customer_only_member = df_customer.query(\"not customer_id.str.startswith('Z')\", engine=\"python\")"
   ]
  },
  {
   "cell_type": "code",
   "execution_count": 20,
   "metadata": {
    "colab": {
     "base_uri": "https://localhost:8080/",
     "height": 728
    },
    "colab_type": "code",
    "id": "hmc6LUaEhhyw",
    "outputId": "f1b1dc56-af65-4fbf-9d8a-5c0490a2ad17"
   },
   "outputs": [
    {
     "name": "stdout",
     "output_type": "stream",
     "text": [
      "               customer_name  gender_cd gender   birth_day  age postal_cd                 address application_store_cd  application_date     status_cd  amount\n",
      "customer_id                                                                                                                                                   \n",
      "CS021313000114        大野 あや子          1     女性  1981-04-29   37  259-1113    神奈川県伊勢原市粟窪**********               S14021          20150905  0-00000000-0     0.0\n",
      "CS037613000071         六角 雅彦          9     不明  1952-04-01   66  136-0076      東京都江東区南砂**********               S13037          20150414  0-00000000-0     0.0\n",
      "CS031415000172       宇多田 貴美子          1     女性  1976-10-04   42  151-0053     東京都渋谷区代々木**********               S13031          20150529  D-20100325-C  5088.0\n",
      "CS028811000001        堀井 かおり          1     女性  1933-03-27   86  245-0016  神奈川県横浜市泉区和泉町**********               S14028          20160115  0-00000000-0     0.0\n",
      "CS001215000145         田崎 美紀          1     女性  1995-03-29   24  144-0055     東京都大田区仲六郷**********               S13001          20170605  6-20090929-2   875.0\n"
     ]
    }
   ],
   "source": [
    "df_receipt_grouped = df_receipt_only_member.groupby('customer_id').sum().drop(columns=['sales_ymd', 'sales_epoch', 'store_cd', 'receipt_no', 'receipt_sub_no', 'product_cd', 'quantity'])\n",
    "print(pd.merge(df_customer_only_member.set_index('customer_id'), df_receipt_grouped, on= 'customer_id', how='left').fillna({'amount': 0}).head(5))"
   ]
  },
  {
   "attachments": {},
   "cell_type": "markdown",
   "metadata": {},
   "source": [
    "<details>\n",
    "<summary>ヒント1</summary>\n",
    "タイトル通り 「pandas DataFrame 結合」などと調べれば必要な機能に関する記事が見つかります。  \n",
    "</details>\n"
   ]
  },
  {
   "attachments": {},
   "cell_type": "markdown",
   "metadata": {},
   "source": [
    "<details>\n",
    "<summary>ヒント2</summary>\n",
    "\"merge\", \"join\"という似たメソッドがあります。  \n",
    "今回の場合\"merge\"が便利でしょう。\n",
    "</details>"
   ]
  },
  {
   "attachments": {},
   "cell_type": "markdown",
   "metadata": {
    "colab_type": "text",
    "id": "umDmd8kohhzA"
   },
   "source": [
    "---\n",
    "## 問7. 時系列データ\n",
    "> P-046: 顧客データフレーム（df_customer）の申し込み日（application_date）はYYYYMMD形式の文字列型でデータを保有している。これを日付型（dateやdatetime）に変換し、顧客ID（customer_id）とともに抽出せよ。なお、データは先頭5件を表示せよ。"
   ]
  },
  {
   "cell_type": "code",
   "execution_count": 11,
   "metadata": {
    "colab": {
     "base_uri": "https://localhost:8080/",
     "height": 348
    },
    "colab_type": "code",
    "id": "pVAxV-TWhhzA",
    "outputId": "2d2e2281-7181-41b4-81e4-a9e834b93927"
   },
   "outputs": [
    {
     "name": "stdout",
     "output_type": "stream",
     "text": [
      "customer_id\n",
      "CS021313000114   2015-09-05\n",
      "CS037613000071   2015-04-14\n",
      "CS031415000172   2015-05-29\n",
      "CS028811000001   2016-01-15\n",
      "CS001215000145   2017-06-05\n",
      "Name: application_date, dtype: datetime64[ns]\n"
     ]
    }
   ],
   "source": [
    "df_customer_applicationdate = df_customer.set_index('customer_id')\n",
    "print(pd.to_datetime(df_customer_applicationdate['application_date'], format=\"%Y%m%d\").head(5))"
   ]
  },
  {
   "attachments": {},
   "cell_type": "markdown",
   "metadata": {},
   "source": [
    "<details>\n",
    "<summary>ヒント1</summary>\n",
    "「pandas datetime」などで該当の機能が見つかるかと思います。\n",
    "</details>\n"
   ]
  },
  {
   "attachments": {},
   "cell_type": "markdown",
   "metadata": {},
   "source": [
    "<details>\n",
    "<summary>ヒント2</summary>\n",
    "\"pd.to_datetime\"というメソッドが使えるでしょう。このメソッドを適用する際ですが、for文を使わずに実装しましょう。"
   ]
  },
  {
   "attachments": {},
   "cell_type": "markdown",
   "metadata": {
    "colab_type": "text",
    "id": "9v_q6BLjhhzU"
   },
   "source": [
    "---\n",
    "## 問8. 関数\n",
    "> P-061: レシート明細データフレーム（df_receipt）の売上金額（amount）を顧客ID（customer_id）ごとに合計し、合計した売上金額を常用対数化（底=10）して顧客ID、売上金額合計とともに表示せよ。ただし、顧客IDが\"Z\"から始まるのものは非会員を表すため、除外して計算すること。なお、結果は先頭5件を表示せよ。"
   ]
  },
  {
   "cell_type": "code",
   "execution_count": 12,
   "metadata": {
    "colab": {
     "base_uri": "https://localhost:8080/",
     "height": 437
    },
    "colab_type": "code",
    "id": "d5_2HQ-2hhzU",
    "outputId": "56ba3b92-2071-4a8d-c555-d9007bb43316"
   },
   "outputs": [
    {
     "name": "stdout",
     "output_type": "stream",
     "text": [
      "                amount  log_amount\n",
      "customer_id                       \n",
      "CS001113000004    1298    3.113275\n",
      "CS001114000005     626    2.796574\n",
      "CS001115000010    3044    3.483445\n",
      "CS001205000004    1988    3.298416\n",
      "CS001205000006    3337    3.523356\n",
      "...                ...         ...\n",
      "CS051212000001     336    2.526339\n",
      "CS051513000004     551    2.741152\n",
      "CS051515000002     265    2.423246\n",
      "CS052212000002     192    2.283301\n",
      "CS052514000001     178    2.250420\n",
      "\n",
      "[8306 rows x 2 columns]\n"
     ]
    }
   ],
   "source": [
    "df_amount_ln = df_grouped.drop(columns=['sales_ymd', 'sales_epoch', 'store_cd', 'receipt_no', 'receipt_sub_no', 'product_cd', 'quantity'])\n",
    "df_amount_ln['log_amount'] = np.log10(df_amount_ln['amount'])\n",
    "print(df_amount_ln)"
   ]
  },
  {
   "attachments": {},
   "cell_type": "markdown",
   "metadata": {
    "colab_type": "text",
    "id": "boe923CMhhzq"
   },
   "source": [
    "---\n",
    "## 問9. 欠損数\n",
    "> P-079: 商品データフレーム（df_product）の各項目に対し、欠損数を確認せよ。"
   ]
  },
  {
   "cell_type": "code",
   "execution_count": 13,
   "metadata": {
    "colab": {
     "base_uri": "https://localhost:8080/",
     "height": 169
    },
    "colab_type": "code",
    "id": "bxl__vC5hhzq",
    "outputId": "d8bb408a-6897-4e5a-8416-ce67a8a5fce4"
   },
   "outputs": [
    {
     "name": "stdout",
     "output_type": "stream",
     "text": [
      "product_cd            0\n",
      "category_major_cd     0\n",
      "category_medium_cd    0\n",
      "category_small_cd     0\n",
      "unit_price            7\n",
      "unit_cost             7\n",
      "dtype: int64\n"
     ]
    }
   ],
   "source": [
    "print(df_product.isnull().sum())"
   ]
  },
  {
   "attachments": {},
   "cell_type": "markdown",
   "metadata": {
    "colab_type": "text",
    "id": "afprSqIvhhzs"
   },
   "source": [
    "---\n",
    "## 問10. 欠損値の除去\n",
    "> P-080: 商品データフレーム（df_product）のいずれかの項目に欠損が発生しているレコードを全て削除した新たなdf_product_1を作成せよ。なお、削除前後の件数を表示させ、前設問で確認した件数だけ減少していることも確認すること。"
   ]
  },
  {
   "cell_type": "code",
   "execution_count": 14,
   "metadata": {
    "colab": {},
    "colab_type": "code",
    "id": "q3_9sLdHhhzt"
   },
   "outputs": [],
   "source": [
    "df_product_1 = df_product.dropna(how='any', axis=0)"
   ]
  },
  {
   "cell_type": "code",
   "execution_count": 15,
   "metadata": {
    "colab": {},
    "colab_type": "code",
    "id": "qFNnYstw1vTG"
   },
   "outputs": [
    {
     "name": "stdout",
     "output_type": "stream",
     "text": [
      "10030 10023\n"
     ]
    }
   ],
   "source": [
    "print(len(df_product), len(df_product_1))"
   ]
  },
  {
   "attachments": {},
   "cell_type": "markdown",
   "metadata": {
    "colab_type": "text",
    "id": "GtiO20ZKhhzu"
   },
   "source": [
    "---\n",
    "## 問11. 欠損値の穴埋め\n",
    "> P-081: 単価（unit_price）と原価（unit_cost）の欠損値について、それぞれの平均値で補完した新たなdf_product_2を作成せよ。なお、平均値について1円未満は四捨五入とせよ。補完実施後、各項目について欠損が生じていないことも確認すること。"
   ]
  },
  {
   "cell_type": "code",
   "execution_count": 16,
   "metadata": {
    "colab": {},
    "colab_type": "code",
    "id": "puFf-7Ewhhzu"
   },
   "outputs": [
    {
     "name": "stdout",
     "output_type": "stream",
     "text": [
      "product_cd            0\n",
      "category_major_cd     0\n",
      "category_medium_cd    0\n",
      "category_small_cd     0\n",
      "unit_price            0\n",
      "unit_cost             0\n",
      "dtype: int64\n"
     ]
    }
   ],
   "source": [
    "ave_price = df_product.mean(numeric_only=True)['unit_price']\n",
    "ave_cost = df_product.mean(numeric_only=True)['unit_cost']\n",
    "df_product_2 = df_product.fillna({'unit_price': ave_price, 'unit_cost': ave_cost})\n",
    "print(df_product_2.isnull().sum())"
   ]
  },
  {
   "attachments": {},
   "cell_type": "markdown",
   "metadata": {},
   "source": [
    "### 余談\n",
    "ChatGPTやBing AIに聞けば大抵のことは教えてくれます。  \n",
    "何回か入力文章を吟味しないといけないこともありますが、知らないことを調べる場合は自分で検索するよりも早いです。  \n",
    "ただ、ChatGPTなどは嘘をつく場合があるので、自分でソースを参照する姿勢は必要です。  \n",
    "\n",
    "これはBingAIの回答例です。  \n",
    "\n",
    "![BingAIの回答例](./imgs/pandas/BingAI.png)"
   ]
  }
 ],
 "metadata": {
  "colab": {
   "name": "pandas_quiz.ipynb",
   "provenance": []
  },
  "kernelspec": {
   "display_name": "Python 3 (ipykernel)",
   "language": "python",
   "name": "python3"
  },
  "language_info": {
   "codemirror_mode": {
    "name": "ipython",
    "version": 3
   },
   "file_extension": ".py",
   "mimetype": "text/x-python",
   "name": "python",
   "nbconvert_exporter": "python",
   "pygments_lexer": "ipython3",
   "version": "3.11.4"
  }
 },
 "nbformat": 4,
 "nbformat_minor": 4
}
